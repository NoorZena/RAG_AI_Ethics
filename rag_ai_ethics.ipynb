{
 "cells": [
  {
   "cell_type": "code",
   "execution_count": 3,
   "id": "1f71cf61-33a6-48ce-b571-4a28fd401cf6",
   "metadata": {},
   "outputs": [],
   "source": [
    "# !pip install llama-index\n",
    "# !pip install llama-index-embeddings-mistralai\n",
    "# !pip install llama-index-llms-mistralai\n",
    "# !pip install python-dotenv"
   ]
  },
  {
   "cell_type": "markdown",
   "id": "6f7d0e90-5979-4963-b7b4-b46b894b84b5",
   "metadata": {},
   "source": [
    "# Imports "
   ]
  },
  {
   "cell_type": "code",
   "execution_count": 25,
   "id": "42d3b699-dfba-4b6f-b10f-bf22668a21ab",
   "metadata": {},
   "outputs": [],
   "source": [
    "import os\n",
    "from llama_index.core import SimpleDirectoryReader\n",
    "from llama_index.core.node_parser import SentenceSplitter\n",
    "from llama_index.core import SummaryIndex, VectorStoreIndex\n",
    "from llama_index.core import Settings\n",
    "from llama_index.embeddings.mistralai import MistralAIEmbedding\n",
    "from llama_index.llms.mistralai import MistralAI\n",
    "from llama_index.core.tools import QueryEngineTool"
   ]
  },
  {
   "cell_type": "markdown",
   "id": "50045060-a895-4007-a6cd-b396dddd6d53",
   "metadata": {},
   "source": [
    " # Load the PDF into LlamaIndex"
   ]
  },
  {
   "cell_type": "code",
   "execution_count": 2,
   "id": "f2b78e83-3211-4444-8d13-4ee92715a8ee",
   "metadata": {},
   "outputs": [
    {
     "name": "stdout",
     "output_type": "stream",
     "text": [
      "Doc ID: bcaa3acb-42b1-4e20-90ff-96c911d1bcf0\n",
      "Text: IEEE TRANSACTIONS ON ARTIFICIAL INTELLIGENCE, VOL. 4, NO. 4,\n",
      "AUGUST 2023 799 An Overview of Artiﬁcial Intelligence Ethics Changwu\n",
      "Huang , Member, IEEE, Zeqi Zhang, Bifei Mao, and Xin Yao, Fellow, IEEE\n",
      "Abstract—Artiﬁcial intelligence (AI) has profoundly changed and will\n",
      "continue to change our lives. AI is being applied in more and more\n",
      "ﬁelds and ...\n"
     ]
    }
   ],
   "source": [
    "# Load the document\n",
    "documents = SimpleDirectoryReader(input_files=[\"An_Overview_of_Artificial_Intelligence_Ethics.pdf\"]).load_data()\n",
    "\n",
    "# Display the first document\n",
    "print(documents[0])"
   ]
  },
  {
   "cell_type": "markdown",
   "id": "13b82bfb-f1dc-471c-bcdd-0b5c1d894bea",
   "metadata": {},
   "source": [
    "# Split the Text Using SentenceSplitter"
   ]
  },
  {
   "cell_type": "code",
   "execution_count": 11,
   "id": "84bf56b8-a80f-47bd-9226-0520f34f37d2",
   "metadata": {},
   "outputs": [
    {
     "data": {
      "application/vnd.jupyter.widget-view+json": {
       "model_id": "99e6d57935af4a1a81326752d17445d6",
       "version_major": 2,
       "version_minor": 0
      },
      "text/plain": [
       "Parsing nodes:   0%|          | 0/21 [00:00<?, ?it/s]"
      ]
     },
     "metadata": {},
     "output_type": "display_data"
    },
    {
     "name": "stdout",
     "output_type": "stream",
     "text": [
      "Node ID: 5e6fdd93-888e-4ca9-9e5b-fb77db04f91c\n",
      "Text: IEEE TRANSACTIONS ON ARTIFICIAL INTELLIGENCE, VOL. 4, NO. 4,\n",
      "AUGUST 2023 799 An Overview of Artiﬁcial Intelligence Ethics Changwu\n",
      "Huang , Member, IEEE, Zeqi Zhang, Bifei Mao, and Xin Yao, Fellow, IEEE\n",
      "Abstract—Artiﬁcial intelligence (AI) has profoundly changed and will\n",
      "continue to change our lives. AI is being applied in more and more\n",
      "ﬁelds and ...\n"
     ]
    }
   ],
   "source": [
    "# Initialize the splitter with a chunk size of 512 characters\n",
    "splitter = SentenceSplitter(chunk_size=512)\n",
    "\n",
    "# Split the document into chunks (nodes)\n",
    "nodes = splitter.get_nodes_from_documents(documents, show_progress=True)\n",
    "\n",
    "# Display the first chunk\n",
    "print(nodes[0])"
   ]
  },
  {
   "cell_type": "markdown",
   "id": "939d14b8-4894-42b0-9a88-6a337a40ad2f",
   "metadata": {},
   "source": [
    "#### document loading and text splitting steps are correctly executed. The \"Error displaying widget\" message is just a Jupyter Notebook issue and does not affect the correctness of the output. "
   ]
  },
  {
   "cell_type": "markdown",
   "id": "2e13e508-69b1-4879-a14b-8e851facfcc6",
   "metadata": {},
   "source": [
    "# Set Up Mistral AI API Key"
   ]
  },
  {
   "cell_type": "code",
   "execution_count": 4,
   "id": "59585445-407f-477a-b5a4-c72bbc2e3514",
   "metadata": {},
   "outputs": [],
   "source": [
    "os.environ[\"MISTRAL_API_KEY\"] = \"EQGOZOmRj95QxXpOJUI0yOMjnzTF1ym5\"\n",
    "\n",
    "Settings.llm = MistralAI(api_key=os.getenv(\"MISTRAL_API_KEY\"))\n",
    "Settings.embed_model = MistralAIEmbedding(model_name=\"mistral-embed\", api_key=os.getenv(\"MISTRAL_API_KEY\"))"
   ]
  },
  {
   "cell_type": "markdown",
   "id": "ad5609bd-5619-471d-999c-2333639a57e4",
   "metadata": {},
   "source": [
    "# Create a Summary Index and Vector Index"
   ]
  },
  {
   "cell_type": "code",
   "execution_count": 5,
   "id": "a93bc0a3-4da3-4005-974c-80b318ef5f6e",
   "metadata": {},
   "outputs": [
    {
     "name": "stdout",
     "output_type": "stream",
     "text": [
      "Indexes created successfully with Mistral AI!\n"
     ]
    }
   ],
   "source": [
    "# Create a summary index\n",
    "summary_index = SummaryIndex(nodes[:10])\n",
    "\n",
    "# Create a vector index\n",
    "vector_index = VectorStoreIndex(nodes[:10])\n",
    "\n",
    "print(\"Indexes created successfully with Mistral AI!\")"
   ]
  },
  {
   "cell_type": "markdown",
   "id": "5a65d69b-6296-4cab-b4df-3907ded2dfcc",
   "metadata": {},
   "source": [
    "# Set Up Query Engines"
   ]
  },
  {
   "cell_type": "code",
   "execution_count": 27,
   "id": "ed9d874b-4cfc-413e-a2f1-ffeca30c486e",
   "metadata": {},
   "outputs": [
    {
     "name": "stdout",
     "output_type": "stream",
     "text": [
      "Query engines set up successfully!\n"
     ]
    }
   ],
   "source": [
    "# Define the query engine for summarization\n",
    "summary_query_engine = summary_index.as_query_engine(\n",
    "    response_mode=\"tree_summarize\",\n",
    "    use_async=True,\n",
    ")\n",
    "\n",
    "# Define the query engine for vector search\n",
    "vector_query_engine = vector_index.as_query_engine()\n",
    "\n",
    "print(\"Query engines set up successfully!\")"
   ]
  },
  {
   "cell_type": "code",
   "execution_count": 29,
   "id": "86bd0270-fa83-4680-9cd6-535514692285",
   "metadata": {},
   "outputs": [
    {
     "name": "stdout",
     "output_type": "stream",
     "text": [
      "Query tools created successfully!\n"
     ]
    }
   ],
   "source": [
    "# Define a tool for summarization\n",
    "summary_tool = QueryEngineTool.from_defaults(\n",
    "    query_engine=summary_query_engine,\n",
    "    description=\"Useful for summarizing the document.\",\n",
    ")\n",
    "\n",
    "# Define a tool for retrieving specific details\n",
    "vector_tool = QueryEngineTool.from_defaults(\n",
    "    query_engine=vector_query_engine,\n",
    "    description=\"Useful for retrieving specific details from the document.\",\n",
    ")\n",
    "\n",
    "print(\"Query tools created successfully!\")"
   ]
  },
  {
   "cell_type": "markdown",
   "id": "bb4d9c93-f476-42bc-9c9c-e7fa3c8abdca",
   "metadata": {},
   "source": [
    "# Test the Query System"
   ]
  },
  {
   "cell_type": "code",
   "execution_count": 32,
   "id": "3b731055-92ad-455b-ae60-9f31374d3556",
   "metadata": {},
   "outputs": [
    {
     "name": "stdout",
     "output_type": "stream",
     "text": [
      "The document provides a comprehensive overview of the field of Artificial Intelligence (AI) ethics. It begins by highlighting the profound impact of AI on various sectors such as autonomous driving, medical care, finance, and internet services, and the consequent ethical concerns that arise, including privacy leakage, discrimination, unemployment, and security risks. The document emphasizes the importance of AI ethics as a research topic and a concern for individuals, organizations, and society at large.\n",
      "\n",
      "The article aims to offer a systematic and comprehensive overview of AI ethics by summarizing and analyzing ethical risks and issues, ethical guidelines and principles issued by different organizations, approaches for addressing ethical issues in AI, and methods for evaluating the ethics of AI. It also points out challenges in implementing ethics in AI and provides future perspectives.\n",
      "\n",
      "The main contributions of the article include a comprehensive overview of AI ethics, a new categorization of AI ethical issues, a global landscape of AI ethics guidelines and principles, a review of multidisciplinary approaches to addressing AI ethical problems, methods for assessing or evaluating AI ethics, and insights into challenges and future research directions in AI ethics.\n",
      "\n",
      "The document is structured to provide a bird's eye view of AI ethics, facilitating further investigation and research in the field. It is intended to inform scientists, researchers, engineers, practitioners, and other relevant stakeholders, especially beginners in this research discipline.\n"
     ]
    }
   ],
   "source": [
    "response = summary_query_engine.query(\"Summarize this document.\")\n",
    "print(response)"
   ]
  },
  {
   "cell_type": "code",
   "execution_count": 34,
   "id": "938e4404-4528-4e3e-91f9-17ac8bce6092",
   "metadata": {},
   "outputs": [
    {
     "name": "stdout",
     "output_type": "stream",
     "text": [
      "The key challenges discussed include implementing ethics in AI and designing ethical AI. Additionally, the paper points out some future perspectives that could guide further research in the AI ethics field.\n"
     ]
    }
   ],
   "source": [
    "response = vector_query_engine.query(\"What are the key challenges discussed in this paper?\")\n",
    "print(response)"
   ]
  },
  {
   "cell_type": "code",
   "execution_count": 36,
   "id": "681f87cc-4cd9-42bb-bab7-a9d2806805a6",
   "metadata": {},
   "outputs": [
    {
     "name": "stdout",
     "output_type": "stream",
     "text": [
      "The paper does not explicitly define fairness in AI.\n"
     ]
    }
   ],
   "source": [
    "response = vector_query_engine.query(\"How does this paper define fairness in AI?\")\n",
    "print(response)"
   ]
  }
 ],
 "metadata": {
  "kernelspec": {
   "display_name": "Python 3 (ipykernel)",
   "language": "python",
   "name": "python3"
  },
  "language_info": {
   "codemirror_mode": {
    "name": "ipython",
    "version": 3
   },
   "file_extension": ".py",
   "mimetype": "text/x-python",
   "name": "python",
   "nbconvert_exporter": "python",
   "pygments_lexer": "ipython3",
   "version": "3.12.7"
  }
 },
 "nbformat": 4,
 "nbformat_minor": 5
}
